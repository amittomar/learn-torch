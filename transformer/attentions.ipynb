{
 "cells": [
  {
   "cell_type": "code",
   "execution_count": 2,
   "id": "49dff839-207f-41a7-97ca-11aa43069654",
   "metadata": {},
   "outputs": [
    {
     "data": {
      "text/plain": [
       "'1.13.1'"
      ]
     },
     "execution_count": 2,
     "metadata": {},
     "output_type": "execute_result"
    }
   ],
   "source": [
    "import torch\n",
    "torch.__version__"
   ]
  },
  {
   "cell_type": "code",
   "execution_count": 40,
   "id": "ae2cd4ac-9ce1-417f-9893-63ddf2b1535d",
   "metadata": {},
   "outputs": [
    {
     "data": {
      "text/plain": [
       "torch.Size([8])"
      ]
     },
     "execution_count": 40,
     "metadata": {},
     "output_type": "execute_result"
    }
   ],
   "source": [
    "import numpy as np\n",
    "sentence = 'can you help me to translate this text'\n",
    "sentence = sentence.split(' ')\n",
    "words_sorted = sorted(sentence)\n",
    "word_to_int = {word:i for i,word in enumerate(words_sorted)}\n",
    "word_to_int\n",
    "encoded_text = np.array([word_to_int[word] for word in sentence], dtype=np.int32)\n",
    "encoded_text\n",
    "sentence_tensor = torch.tensor(encoded_text)\n",
    "sentence_tensor\n",
    "sentence_tensor.shape"
   ]
  },
  {
   "cell_type": "code",
   "execution_count": 38,
   "id": "567f2b9d-d7a3-4511-9976-a77cc8b092c4",
   "metadata": {},
   "outputs": [
    {
     "data": {
      "text/plain": [
       "torch.Size([8, 16])"
      ]
     },
     "execution_count": 38,
     "metadata": {},
     "output_type": "execute_result"
    }
   ],
   "source": [
    "from torch.nn import Embedding\n",
    "torch.manual_seed(42)\n",
    "embed = torch.nn.Embedding(10,16)\n",
    "embed_sentence = embed(sentence_tensor)\n",
    "embed_sentence.shape"
   ]
  },
  {
   "cell_type": "markdown",
   "id": "3ed5a61e-58ed-4fac-8242-51099ae7356d",
   "metadata": {},
   "source": [
    "## Calculate the attention matrix"
   ]
  },
  {
   "cell_type": "code",
   "execution_count": 53,
   "id": "e8a703ea-0df8-4cd1-8d25-2510848cf3a5",
   "metadata": {},
   "outputs": [
    {
     "data": {
      "text/plain": [
       "torch.Size([8, 8])"
      ]
     },
     "execution_count": 53,
     "metadata": {},
     "output_type": "execute_result"
    }
   ],
   "source": [
    "omega = torch.empty(8,8)\n",
    "for i,x_i in enumerate(embed_sentence):\n",
    "    for j, x_j in enumerate(embed_sentence):\n",
    "        omega[i,j] = torch.dot(x_i,x_j)\n",
    "omega.shape\n"
   ]
  },
  {
   "cell_type": "code",
   "execution_count": 54,
   "id": "8ced9400-47fa-4534-816d-87bcc3a0f413",
   "metadata": {},
   "outputs": [
    {
     "data": {
      "text/plain": [
       "torch.Size([8, 8])"
      ]
     },
     "execution_count": 54,
     "metadata": {},
     "output_type": "execute_result"
    }
   ],
   "source": [
    "omega_mat = embed_sentence.matmul(embed_sentence.T)\n",
    "omega_mat.shape"
   ]
  },
  {
   "cell_type": "code",
   "execution_count": 47,
   "id": "e1d670b2-db6b-445a-9c56-7828966e7978",
   "metadata": {},
   "outputs": [],
   "source": [
    "## verify that both should eb same"
   ]
  },
  {
   "cell_type": "code",
   "execution_count": 49,
   "id": "ef3d072d-59ab-4b7f-9706-043f4c9fed42",
   "metadata": {},
   "outputs": [
    {
     "data": {
      "text/plain": [
       "True"
      ]
     },
     "execution_count": 49,
     "metadata": {},
     "output_type": "execute_result"
    }
   ],
   "source": [
    "torch.allclose(omega_mat, omega)"
   ]
  },
  {
   "cell_type": "code",
   "execution_count": 55,
   "id": "bc2c281f-24b6-4f28-b795-460c16d01c4d",
   "metadata": {},
   "outputs": [
    {
     "data": {
      "text/plain": [
       "torch.Size([8, 8])"
      ]
     },
     "execution_count": 55,
     "metadata": {},
     "output_type": "execute_result"
    }
   ],
   "source": [
    "import torch.nn.functional as F\n",
    "attention_weights = F.softmax(omega, dim=1)\n",
    "attention_weights.shape"
   ]
  },
  {
   "cell_type": "code",
   "execution_count": 57,
   "id": "cdfc255e-bed7-4a61-91bb-5ce1821db35e",
   "metadata": {},
   "outputs": [
    {
     "data": {
      "text/plain": [
       "tensor([1., 1., 1., 1., 1., 1., 1., 1.], grad_fn=<SumBackward1>)"
      ]
     },
     "execution_count": 57,
     "metadata": {},
     "output_type": "execute_result"
    }
   ],
   "source": [
    "attention_weights.sum(dim=1)"
   ]
  },
  {
   "cell_type": "markdown",
   "id": "7b3025b8-35b9-4cd5-afe1-bbb8c8238675",
   "metadata": {},
   "source": [
    "## Attention is all you need"
   ]
  },
  {
   "cell_type": "code",
   "execution_count": 63,
   "id": "addf0f6a-7409-4806-84a1-2027dc804b40",
   "metadata": {},
   "outputs": [],
   "source": [
    "torch.manual_seed(42)\n",
    "d = embed_sentence.shape[1]\n",
    "U_query = torch.rand(d,d)\n",
    "U_key = torch.rand(d,d)\n",
    "U_value = torch.rand(d,d)\n"
   ]
  },
  {
   "cell_type": "code",
   "execution_count": 69,
   "id": "b69bfbee-3742-4002-b5aa-c747fd4e1da3",
   "metadata": {},
   "outputs": [],
   "source": [
    "x_2 = embed_sentence[1]\n",
    "query_2 = U_query.matmul(x_2)\n",
    "key_2 = U_key.matmul(x_2)\n",
    "value_2 = U_value.matmul(x_2)"
   ]
  },
  {
   "cell_type": "code",
   "execution_count": 75,
   "id": "2bfdc446-711e-44b6-9269-bb50cb4a08b5",
   "metadata": {},
   "outputs": [
    {
     "data": {
      "text/plain": [
       "torch.Size([8, 16])"
      ]
     },
     "execution_count": 75,
     "metadata": {},
     "output_type": "execute_result"
    }
   ],
   "source": [
    "### verify value\n",
    "keys = U_key.matmul(embed_sentence.T).T\n",
    "values = U_value.matmul(embed_sentence.T).T\n",
    "torch.allclose(value_2, values[1])\n",
    "keys.shape"
   ]
  }
 ],
 "metadata": {
  "kernelspec": {
   "display_name": "Python 3 (ipykernel)",
   "language": "python",
   "name": "python3"
  },
  "language_info": {
   "codemirror_mode": {
    "name": "ipython",
    "version": 3
   },
   "file_extension": ".py",
   "mimetype": "text/x-python",
   "name": "python",
   "nbconvert_exporter": "python",
   "pygments_lexer": "ipython3",
   "version": "3.9.16"
  }
 },
 "nbformat": 4,
 "nbformat_minor": 5
}
